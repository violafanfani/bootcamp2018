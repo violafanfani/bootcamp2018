{
 "cells": [
  {
   "cell_type": "markdown",
   "metadata": {},
   "source": [
    "# Scientific Programming in Python: Notebook 1\n",
    "### CSEE Bootcamp 2018\n",
    "#### Viola Fanfani & Ana Matran Fernandez\n"
   ]
  },
  {
   "cell_type": "code",
   "execution_count": 1,
   "metadata": {},
   "outputs": [],
   "source": [
    "import numpy as np\n",
    "import scipy\n",
    "import pandas as pd\n",
    "import matplotlib.pyplot as plt"
   ]
  },
  {
   "cell_type": "markdown",
   "metadata": {},
   "source": [
    "## Numpy\n"
   ]
  },
  {
   "cell_type": "markdown",
   "metadata": {},
   "source": [
    "#### Creating and manipulating arrays"
   ]
  },
  {
   "cell_type": "code",
   "execution_count": 5,
   "metadata": {},
   "outputs": [
    {
     "name": "stdout",
     "output_type": "stream",
     "text": [
      "[1. 2. 3.]\n",
      "float32\n",
      "[1.+2.j 3.-4.j]\n",
      "complex64\n",
      "[False  True  True]\n",
      "bool\n"
     ]
    }
   ],
   "source": [
    "# create arrays with a specified data type\n",
    "\n",
    "arr = np.array([1,2,3], dtype=np.float32)\n",
    "print(arr)\n",
    "print(arr.dtype)\n",
    "\n",
    "arr = np.array([1+2j, 3-4j], dtype=np.complex64)\n",
    "print(arr)\n",
    "print(arr.dtype)\n",
    "\n",
    "arr = np.array([0, 1, 1], dtype=np.bool)\n",
    "print(arr)\n",
    "print(arr.dtype)"
   ]
  },
  {
   "cell_type": "code",
   "execution_count": 10,
   "metadata": {},
   "outputs": [
    {
     "name": "stdout",
     "output_type": "stream",
     "text": [
      "[0 1 2 3 4 5 6 7 8 9]\n",
      "shape: (10,)\n",
      "dtype: int64\n",
      "dim: 1\n",
      "itemsize: 8\n"
     ]
    }
   ],
   "source": [
    "arr_range2 = np.arange(10)\n",
    "print(arr_range2)\n",
    "\n",
    "## Retrieving information on the array\n",
    "print(\"shape:\",arr_range2.shape)\n",
    "print(\"dtype:\",arr_range2.dtype)\n",
    "print(\"dim:\",arr_range2.ndim)\n",
    "print(\"itemsize:\",arr_range2.itemsize)"
   ]
  },
  {
   "cell_type": "code",
   "execution_count": 7,
   "metadata": {},
   "outputs": [
    {
     "name": "stdout",
     "output_type": "stream",
     "text": [
      "[ 0  5 10 15 20 25 30 35 40 45 50 55 60 65 70 75 80 85 90 95]\n"
     ]
    }
   ],
   "source": [
    "arr=np.arange(0,100,5) #np.arange(start,stop,pace)\n",
    "print(arr)\n",
    "\n",
    "# np.linspace(start, stop, num_of_elements, endpoint=True, retstep=False) \n",
    "arr = np.linspace(0, 10, 20)\n",
    "print(arr)"
   ]
  },
  {
   "cell_type": "code",
   "execution_count": 12,
   "metadata": {},
   "outputs": [
    {
     "name": "stdout",
     "output_type": "stream",
     "text": [
      "[[1.5 2.  3. ]\n",
      " [4.  5.  6. ]]\n",
      "[1.5 2.  3. ]\n"
     ]
    }
   ],
   "source": [
    "arr_2d = np.array([(1.5,2,3), (4,5,6)])\n",
    "print(arr_2d)"
   ]
  },
  {
   "cell_type": "code",
   "execution_count": 32,
   "metadata": {},
   "outputs": [
    {
     "name": "stdout",
     "output_type": "stream",
     "text": [
      "arr_2d[0,0] : 1.5\n",
      "arr_2d[0,:] :  [1.5 2.  3. ]\n",
      "arr_2d[:,0] : [1.5 4. ]\n",
      "[3. 4. 5. 6.]\n"
     ]
    }
   ],
   "source": [
    "# Slicing \n",
    "\n",
    "print(\"arr_2d[0,0] :\",arr_2d[0,0])\n",
    "print(\"arr_2d[0,:] : \",arr_2d[0,:])\n",
    "print(\"arr_2d[:,0] :\",arr_2d[:,0])\n",
    "\n",
    "print(arr_2d[arr_2d>2])"
   ]
  },
  {
   "cell_type": "code",
   "execution_count": 21,
   "metadata": {},
   "outputs": [
    {
     "name": "stdout",
     "output_type": "stream",
     "text": [
      "[[0. 0. 0. 0. 0. 0. 0. 0. 0. 0.]\n",
      " [0. 0. 0. 0. 0. 0. 0. 0. 0. 0.]\n",
      " [0. 0. 0. 0. 0. 0. 0. 0. 0. 0.]\n",
      " [0. 0. 0. 0. 0. 0. 0. 0. 0. 0.]\n",
      " [0. 0. 0. 0. 0. 0. 0. 0. 0. 0.]\n",
      " [0. 0. 0. 0. 0. 0. 0. 0. 0. 0.]\n",
      " [0. 0. 0. 0. 0. 0. 0. 0. 0. 0.]\n",
      " [0. 0. 0. 0. 0. 0. 0. 0. 0. 0.]\n",
      " [0. 0. 0. 0. 0. 0. 0. 0. 0. 0.]\n",
      " [0. 0. 0. 0. 0. 0. 0. 0. 0. 0.]]\n",
      "[[1. 1. 1. 1.]\n",
      " [1. 1. 1. 1.]\n",
      " [1. 1. 1. 1.]\n",
      " [1. 1. 1. 1.]]\n",
      "[[1. 1. 1. 1. 1. 1. 1. 1.]\n",
      " [1. 1. 1. 1. 1. 1. 1. 1.]]\n"
     ]
    }
   ],
   "source": [
    "# Other types of arrays\n",
    "\n",
    "zeros = np.zeros((10,10))\n",
    "print(zeros)\n",
    "\n",
    "ones = np.ones((4,4))\n",
    "print(ones)\n",
    "\n",
    "print(ones.reshape(2,8))"
   ]
  },
  {
   "cell_type": "code",
   "execution_count": 37,
   "metadata": {},
   "outputs": [
    {
     "name": "stdout",
     "output_type": "stream",
     "text": [
      "[[-0.72111744  0.42954612 -0.30157186  1.83403839 -0.59291634  0.38509407\n",
      "   0.94729847  0.25523746  0.91549227 -1.96543234  0.02358078 -0.80791475\n",
      "  -0.50020431  1.43002098 -0.78761451  1.80921622  0.39660843  1.03256567\n",
      "   0.03707778 -0.6609219  -0.30508165 -0.06465429  0.52333716  0.32081192\n",
      "  -0.22885648  1.00411311 -1.03077651  0.57091438  1.10446172  0.9131837\n",
      "  -0.79281288  0.81899097  0.67651929  1.34022245  1.16239118  1.05891239\n",
      "   1.45365793 -0.8916139  -0.50404709  0.21822866 -0.09093317  0.04191032\n",
      "  -0.61936784 -0.61438459 -0.44175343  1.07543419  0.02870698 -0.04823847\n",
      "  -2.18677175  0.48489177  1.65424415 -0.51254641  0.35921371  1.64359054\n",
      "   0.00699044  0.63426115 -1.14087273 -1.26506807  1.05113708 -0.11435538\n",
      "  -1.33205122  2.08466127  0.41861917  0.5823182  -1.07882379  0.1980188\n",
      "  -2.10366682  0.28051007 -0.10601269  2.36079717  0.3428069  -1.30758099\n",
      "   1.04434176  0.73257314 -0.1079183  -1.91768263  0.13710181  0.23944693\n",
      "  -2.47816383 -1.58065971  0.35055103  1.4267594  -1.02358833  0.13425898\n",
      "  -0.58384989  2.683651   -0.45005081 -0.63453347 -0.58588294 -0.76023227\n",
      "  -2.47710709  0.37807223  0.49325524  1.15764536 -0.20615035  0.15744543\n",
      "   0.71923391 -2.28735965 -1.07445286  0.03065101]]\n",
      "[[1. 0. 0. 0. 0.]\n",
      " [0. 1. 0. 0. 0.]\n",
      " [0. 0. 1. 0. 0.]\n",
      " [0. 0. 0. 1. 0.]\n",
      " [0. 0. 0. 0. 1.]]\n",
      "[[1 0 0 0]\n",
      " [0 2 0 0]\n",
      " [0 0 3 0]\n",
      " [0 0 0 4]]\n"
     ]
    }
   ],
   "source": [
    "# random values arrays\n",
    "randn=np.random.randn(1,100)\n",
    "print(randn)\n",
    "\n",
    "# linear algebra arrays \n",
    "eye=np.eye(5)\n",
    "print(eye)\n",
    "\n",
    "diagonal=np.diag(np.arange(1,5))\n",
    "print(diagonal)\n"
   ]
  },
  {
   "cell_type": "markdown",
   "metadata": {},
   "source": [
    "#### Operations with arrays"
   ]
  },
  {
   "cell_type": "code",
   "execution_count": 22,
   "metadata": {},
   "outputs": [
    {
     "name": "stdout",
     "output_type": "stream",
     "text": [
      "c= [20 29 38 47]\n",
      "b**2= [0 1 4 9]\n",
      "sin= [ 9.12945251 -9.88031624  7.4511316  -2.62374854]\n",
      "[False False False False]\n"
     ]
    }
   ],
   "source": [
    "a = np.array( [20,30,40,50] )\n",
    "b = np.arange( 4 )\n",
    "\n",
    "print(\"a-b\",a-b)\n",
    "print(\"b**2=\", b**2)\n",
    "print(\"a>20\",a<20)"
   ]
  },
  {
   "cell_type": "code",
   "execution_count": 29,
   "metadata": {},
   "outputs": [
    {
     "name": "stdout",
     "output_type": "stream",
     "text": [
      "[ 7.07106781e-01  1.00000000e+00  7.07106781e-01  1.22464680e-16\n",
      " -7.07106781e-01 -1.00000000e+00 -7.07106781e-01 -2.44929360e-16\n",
      "  7.07106781e-01  1.00000000e+00  7.07106781e-01  3.67394040e-16\n",
      " -7.07106781e-01 -1.00000000e+00 -7.07106781e-01 -4.89858720e-16\n",
      "  7.07106781e-01  1.00000000e+00  7.07106781e-01]\n",
      "[0.         0.69314718 1.09861229 1.38629436 1.60943791 1.79175947\n",
      " 1.94591015 2.07944154 2.19722458 2.30258509 2.39789527 2.48490665\n",
      " 2.56494936 2.63905733 2.7080502  2.77258872 2.83321334 2.89037176\n",
      " 2.94443898]\n",
      "[4. 4. 4. 4.]\n",
      "[1. 1. 1. 1.]\n"
     ]
    }
   ],
   "source": [
    "# Maths operators\n",
    "\n",
    "x=np.arange(1,20)\n",
    "sin=np.sin(1/4*np.pi*x)\n",
    "print(sin)\n",
    "print(np.log(x))\n",
    "\n",
    "print(np.sum(ones, axis=0))\n",
    "print(np.sum(ones[:,2:3], axis=1))\n"
   ]
  },
  {
   "cell_type": "code",
   "execution_count": 30,
   "metadata": {},
   "outputs": [
    {
     "name": "stdout",
     "output_type": "stream",
     "text": [
      "1.0\n",
      "-1.0\n",
      "[1 4 5 8 9]\n",
      "[0 3 3 7 7]\n"
     ]
    }
   ],
   "source": [
    "print(np.max(sin))\n",
    "print(np.min(sin))\n",
    "\n",
    "## Elementwise minimum and maximum\n",
    "arr1 = np.array([1, 3, 5, 7, 9])\n",
    "arr2 = np.array([0, 4, 3, 8, 7])\n",
    "print(np.maximum(arr1, arr2))\n",
    "print(np.minimum(arr1, arr2))"
   ]
  },
  {
   "cell_type": "code",
   "execution_count": null,
   "metadata": {},
   "outputs": [],
   "source": [
    "# Statistical functions\n",
    "\n",
    "print(np.mean(sin))\n",
    "print(np.median(sin))\n",
    "print(np.std(sin))"
   ]
  },
  {
   "cell_type": "code",
   "execution_count": null,
   "metadata": {},
   "outputs": [],
   "source": []
  },
  {
   "cell_type": "markdown",
   "metadata": {},
   "source": [
    "## Scipy"
   ]
  },
  {
   "cell_type": "code",
   "execution_count": null,
   "metadata": {},
   "outputs": [],
   "source": []
  },
  {
   "cell_type": "markdown",
   "metadata": {},
   "source": [
    "## Pandas"
   ]
  },
  {
   "cell_type": "markdown",
   "metadata": {},
   "source": [
    "## Seaborn"
   ]
  }
 ],
 "metadata": {
  "kernelspec": {
   "display_name": "Python 3",
   "language": "python",
   "name": "python3"
  },
  "language_info": {
   "codemirror_mode": {
    "name": "ipython",
    "version": 3
   },
   "file_extension": ".py",
   "mimetype": "text/x-python",
   "name": "python",
   "nbconvert_exporter": "python",
   "pygments_lexer": "ipython3",
   "version": "3.6.6"
  }
 },
 "nbformat": 4,
 "nbformat_minor": 2
}
