{
 "cells": [
  {
   "cell_type": "markdown",
   "metadata": {},
   "source": [
    "# Scientific Programming in Python: Notebook 1\n",
    "### CSEE Bootcamp 2018\n",
    "#### Viola Fanfani & Ana Matran Fernandez\n"
   ]
  },
  {
   "cell_type": "code",
   "execution_count": 1,
   "metadata": {},
   "outputs": [],
   "source": [
    "import numpy as np\n",
    "import scipy\n",
    "import pandas as pd\n",
    "import matplotlib.pyplot as plt"
   ]
  },
  {
   "cell_type": "markdown",
   "metadata": {},
   "source": [
    "## Numpy\n"
   ]
  },
  {
   "cell_type": "markdown",
   "metadata": {},
   "source": [
    "#### Creating and manipulating arrays"
   ]
  },
  {
   "cell_type": "code",
   "execution_count": 5,
   "metadata": {},
   "outputs": [
    {
     "name": "stdout",
     "output_type": "stream",
     "text": [
      "[1. 2. 3.]\n",
      "float32\n",
      "[1.+2.j 3.-4.j]\n",
      "complex64\n",
      "[False  True  True]\n",
      "bool\n"
     ]
    }
   ],
   "source": [
    "# create arrays with a specified data type\n",
    "\n",
    "arr = np.array([1,2,3], dtype=np.float32)\n",
    "print(arr)\n",
    "print(arr.dtype)\n",
    "\n",
    "arr = np.array([1+2j, 3-4j], dtype=np.complex64)\n",
    "print(arr)\n",
    "print(arr.dtype)\n",
    "\n",
    "arr = np.array([0, 1, 1], dtype=np.bool)\n",
    "print(arr)\n",
    "print(arr.dtype)"
   ]
  },
  {
   "cell_type": "code",
   "execution_count": 10,
   "metadata": {},
   "outputs": [
    {
     "name": "stdout",
     "output_type": "stream",
     "text": [
      "[0 1 2 3 4 5 6 7 8 9]\n",
      "shape: (10,)\n",
      "dtype: int64\n",
      "dim: 1\n",
      "itemsize: 8\n"
     ]
    }
   ],
   "source": [
    "arr_range2 = np.arange(10)\n",
    "print(arr_range2)\n",
    "\n",
    "## Retrieving information on the array\n",
    "print(\"shape:\",arr_range2.shape)\n",
    "print(\"dtype:\",arr_range2.dtype)\n",
    "print(\"dim:\",arr_range2.ndim)\n",
    "print(\"itemsize:\",arr_range2.itemsize)"
   ]
  },
  {
   "cell_type": "code",
   "execution_count": 7,
   "metadata": {},
   "outputs": [
    {
     "name": "stdout",
     "output_type": "stream",
     "text": [
      "[ 0  5 10 15 20 25 30 35 40 45 50 55 60 65 70 75 80 85 90 95]\n"
     ]
    }
   ],
   "source": [
    "arr=np.arange(0,100,5) #np.arange(start,stop,pace)\n",
    "print(arr)\n",
    "\n",
    "# np.linspace(start, stop, num_of_elements, endpoint=True, retstep=False) \n",
    "arr = np.linspace(0, 10, 20)\n",
    "print(arr)"
   ]
  },
  {
   "cell_type": "code",
   "execution_count": 12,
   "metadata": {},
   "outputs": [
    {
     "name": "stdout",
     "output_type": "stream",
     "text": [
      "[[1.5 2.  3. ]\n",
      " [4.  5.  6. ]]\n",
      "[1.5 2.  3. ]\n"
     ]
    }
   ],
   "source": [
    "arr_2d = np.array([(1.5,2,3), (4,5,6)])\n",
    "print(arr_2d)"
   ]
  },
  {
   "cell_type": "code",
   "execution_count": 32,
   "metadata": {},
   "outputs": [
    {
     "name": "stdout",
     "output_type": "stream",
     "text": [
      "arr_2d[0,0] : 1.5\n",
      "arr_2d[0,:] :  [1.5 2.  3. ]\n",
      "arr_2d[:,0] : [1.5 4. ]\n",
      "[3. 4. 5. 6.]\n"
     ]
    }
   ],
   "source": [
    "# Slicing \n",
    "\n",
    "print(\"arr_2d[0,0] :\",arr_2d[0,0])\n",
    "print(\"arr_2d[0,:] : \",arr_2d[0,:])\n",
    "print(\"arr_2d[:,0] :\",arr_2d[:,0])\n",
    "\n",
    "print(arr_2d[arr_2d>2])"
   ]
  },
  {
   "cell_type": "code",
   "execution_count": 21,
   "metadata": {},
   "outputs": [
    {
     "name": "stdout",
     "output_type": "stream",
     "text": [
      "[[0. 0. 0. 0. 0. 0. 0. 0. 0. 0.]\n",
      " [0. 0. 0. 0. 0. 0. 0. 0. 0. 0.]\n",
      " [0. 0. 0. 0. 0. 0. 0. 0. 0. 0.]\n",
      " [0. 0. 0. 0. 0. 0. 0. 0. 0. 0.]\n",
      " [0. 0. 0. 0. 0. 0. 0. 0. 0. 0.]\n",
      " [0. 0. 0. 0. 0. 0. 0. 0. 0. 0.]\n",
      " [0. 0. 0. 0. 0. 0. 0. 0. 0. 0.]\n",
      " [0. 0. 0. 0. 0. 0. 0. 0. 0. 0.]\n",
      " [0. 0. 0. 0. 0. 0. 0. 0. 0. 0.]\n",
      " [0. 0. 0. 0. 0. 0. 0. 0. 0. 0.]]\n",
      "[[1. 1. 1. 1.]\n",
      " [1. 1. 1. 1.]\n",
      " [1. 1. 1. 1.]\n",
      " [1. 1. 1. 1.]]\n",
      "[[1. 1. 1. 1. 1. 1. 1. 1.]\n",
      " [1. 1. 1. 1. 1. 1. 1. 1.]]\n"
     ]
    }
   ],
   "source": [
    "# Other types of arrays\n",
    "\n",
    "zeros = np.zeros((10,10))\n",
    "print(zeros)\n",
    "\n",
    "ones = np.ones((4,4))\n",
    "print(ones)\n",
    "\n",
    "print(ones.reshape(2,8))"
   ]
  },
  {
   "cell_type": "code",
   "execution_count": 71,
   "metadata": {},
   "outputs": [
    {
     "name": "stdout",
     "output_type": "stream",
     "text": [
      "[[-4.33224717e-01 -1.57158106e+00 -2.02164132e+00 -7.13527600e-02\n",
      "  -2.00907713e+00  5.11185680e-01 -8.98316090e-01 -1.04539719e+00\n",
      "  -2.95129998e-01 -7.03074517e-02  7.36769076e-01  3.34646291e-01\n",
      "  -9.77951808e-02 -8.77942636e-01  1.05874234e-01  1.22519484e+00\n",
      "   4.19618662e-01 -3.31586496e-01  1.33012725e+00  1.70075384e+00\n",
      "   6.87527285e-01 -1.97673751e+00 -1.20923588e-01 -3.04570287e-01\n",
      "   1.70835824e+00  1.50301465e-01  1.08657718e+00  5.16454220e-01\n",
      "   1.03053886e+00  6.07473350e-01 -1.10077016e-01  1.25735535e+00\n",
      "   1.56602292e+00 -1.24446463e+00  1.75358892e+00  1.97197568e-01\n",
      "   5.09613716e-01 -2.13776329e-01  1.32397890e+00  6.18682598e-01\n",
      "   1.38089521e+00 -1.43154960e+00  7.45881709e-01  1.45047946e+00\n",
      "  -1.31768721e+00 -1.01477852e-01 -5.58154285e-01  2.18959997e-01\n",
      "   4.44654659e-01 -6.35462148e-01  6.23439793e-01  8.83635988e-01\n",
      "  -7.88872821e-01  7.64162141e-01 -1.66570533e+00  1.17667710e+00\n",
      "  -8.09005748e-01  6.22830779e-01  1.11867920e+00 -7.00186913e-01\n",
      "   1.03851500e+00 -3.10709856e-02  1.27818281e+00  5.83421540e-01\n",
      "  -5.19904705e-01 -2.47215108e-01 -2.43400109e+00 -6.48986511e-01\n",
      "  -4.51874737e-01 -1.46070559e+00  4.96095404e-01  1.49005172e+00\n",
      "  -5.16003882e-03  9.02957018e-02 -4.07712474e-01 -1.23455709e-01\n",
      "   8.50488614e-01  3.75987825e-01  3.78124423e-01  4.53736200e-02\n",
      "  -8.13074921e-01 -3.16175391e-01 -3.68216170e-01  1.59655463e-01\n",
      "  -4.58179389e-02 -1.52403864e+00  9.21138459e-01 -1.40324255e+00\n",
      "   3.47124422e-01 -5.39191742e-01  3.50400118e-01 -6.15100344e-01\n",
      "  -4.22550792e-01  1.86167439e-01 -7.27513211e-01 -1.49482963e-01\n",
      "   1.44736380e+00 -8.14187220e-01 -6.82505796e-01 -3.93782817e-01\n",
      "  -7.89339736e-01 -1.22973045e+00 -1.01841911e+00 -1.96231487e+00\n",
      "   2.40058151e-01  7.75851609e-01  9.11356675e-01  3.89118287e-01\n",
      "  -2.16709336e+00 -5.46576093e-01  2.17772006e-02  1.28196860e+00\n",
      "  -1.29443286e+00 -9.59444461e-02 -1.43752972e+00  2.57048620e-01\n",
      "   2.18430034e+00 -4.73585354e-01  4.60471577e-01 -9.71143525e-01\n",
      "  -3.22283911e-01 -1.82660300e+00 -8.73927979e-01 -2.60042363e-01\n",
      "   1.66111448e+00 -1.42907578e-01 -2.67631911e-01  9.60237737e-01\n",
      "  -1.82431201e+00  5.91048268e-01 -2.46161009e-01 -1.34618543e+00\n",
      "   2.19495963e+00 -5.66643121e-01  6.11146668e-01 -9.57137848e-01\n",
      "   1.69541292e+00 -6.19207218e-02 -1.66138777e+00 -3.54112372e-01\n",
      "   6.99716133e-01  4.05042020e-01 -1.19658724e+00 -7.44700114e-01\n",
      "  -1.10569673e-01 -1.67854828e+00 -3.72101109e-01  5.56120940e-01\n",
      "   1.86176587e+00 -4.29373493e-01 -2.69399778e+00 -1.03167425e+00\n",
      "  -6.34763691e-01 -6.29136948e-01 -1.34149167e-01  1.51989823e+00\n",
      "  -3.39247605e-01  3.21107632e+00 -9.54946682e-02  3.30768426e-01\n",
      "  -2.03731729e-01  1.43606971e-01  1.23421423e+00  1.80789590e-01\n",
      "   2.61209663e+00  1.37124602e+00  4.65424969e-01  3.41618853e-01\n",
      "   1.48528596e+00  1.02234032e+00 -3.09356561e-02 -1.89533547e-01\n",
      "  -8.61766965e-01 -8.43663796e-01 -7.18894707e-01  8.31103911e-01\n",
      "  -8.55929005e-01  1.53925335e-01 -1.37364682e+00  8.80919382e-01\n",
      "  -5.28474010e-01 -4.73143643e-02  3.65819584e-01  8.00219733e-01\n",
      "   1.02121539e+00  1.19123791e+00 -7.92535329e-01  1.19333958e+00\n",
      "   1.57647478e-01  8.98813363e-01  2.29981687e+00  1.06081922e-02\n",
      "   1.54417549e+00  1.25151539e+00 -4.48264838e-01 -3.93486059e-01\n",
      "  -4.62852295e-01 -2.44444406e+00  3.07338167e-02 -1.31952245e+00\n",
      "   5.53313507e-01  3.31807972e-02 -7.78106054e-01 -1.91102337e+00\n",
      "   1.71872737e-01  6.70662796e-01  8.27806825e-02  6.96427725e-01\n",
      "  -1.41071462e+00  1.19487347e+00 -1.14785674e+00 -1.78134589e-01\n",
      "  -4.98084929e-02  7.58391325e-01 -6.20176882e-01  1.04378961e+00\n",
      "  -3.28246336e-01  1.86653830e+00  7.70068960e-01 -2.42896909e+00\n",
      "   1.13425357e-01  6.27862271e-01  1.94644573e-01  9.19514054e-01\n",
      "   2.58748949e-01  1.55472276e+00 -3.30123403e-01  8.40272996e-01\n",
      "   3.00551562e-01 -1.09143740e+00 -1.53346756e+00  1.48945147e-01\n",
      "  -2.40574150e+00  5.15609701e-01  4.15750800e-01  6.56438002e-01\n",
      "   4.13849446e-01  2.17574399e-01 -7.20321897e-01 -1.34090059e+00\n",
      "   1.66922362e-01  8.53624260e-01 -5.66538356e-01 -1.46467772e+00\n",
      "   1.98236236e-01  7.76436467e-01  6.25441352e-01  4.66007913e-01\n",
      "   7.43798462e-01  8.30700796e-01  1.47624844e+00 -6.82635215e-01\n",
      "  -3.06495369e+00  1.05405749e-01  8.05448150e-01 -4.92098387e-01\n",
      "  -4.89084421e-01 -1.62108975e+00  1.47098126e+00 -6.30223176e-02\n",
      "  -3.88022452e-01 -6.75915926e-01 -6.25644295e-01  1.25472683e+00\n",
      "  -1.57417757e-01 -7.33249674e-01  2.12943027e+00  9.20363137e-02\n",
      "   1.60389139e+00  6.67518819e-01 -4.78887194e-01  3.02117630e-01\n",
      "   6.94842437e-02 -4.30307790e-01 -1.13628914e+00  4.48208509e-01\n",
      "  -8.17519448e-01 -1.14696309e+00 -2.07443563e-01 -5.14549467e-01\n",
      "  -6.73016026e-01  3.86198464e-01  3.09912540e-01  7.26446974e-01\n",
      "  -1.58080077e+00  6.88561354e-01  6.68617841e-01  9.84417233e-01\n",
      "   3.01839625e-02 -3.22467070e+00 -2.00903141e+00 -8.96126373e-01\n",
      "  -2.38989443e+00 -1.02187563e+00  3.87151832e-01 -1.60227338e+00\n",
      "  -3.87998862e-01  7.97163055e-01 -8.87486705e-01 -2.86450418e-01\n",
      "   1.94553996e-01  6.92033681e-01  1.25291420e+00 -1.24368068e+00\n",
      "   8.44914169e-01 -4.51202595e-01  1.17203386e+00  6.17957286e-01\n",
      "  -3.35880060e-01  1.53804548e+00  1.73437634e-02 -1.19257898e+00\n",
      "   6.93113335e-02 -1.07004572e+00  7.57572714e-01 -6.59128634e-01\n",
      "   1.28541367e+00 -1.01390996e-02 -1.63218669e+00 -1.28897064e+00\n",
      "   6.73506408e-01  1.66581287e-02 -9.56816483e-01 -1.27404908e+00\n",
      "  -1.74743326e+00  1.84526561e+00  7.21880672e-01  1.24203806e+00\n",
      "  -1.06908674e-01 -4.00226108e-01 -6.54928370e-01  2.30539581e+00\n",
      "   1.03622809e+00  1.78221336e+00  1.27740448e+00 -1.98762197e+00\n",
      "   4.51295767e-01  2.28435407e-01 -9.27445660e-01  9.23028999e-02\n",
      "   2.51130094e-01  4.94549107e-01  3.39171959e-01  9.81394680e-02\n",
      "  -7.80723454e-01  1.71989341e-01  4.50193314e-01 -2.21942686e+00\n",
      "  -9.01745265e-02  1.74831087e+00  1.20141391e+00  4.43897531e-01\n",
      "  -4.52128284e-01 -7.59038739e-01 -2.11698250e-01  1.00508497e-02\n",
      "   2.56296146e-01 -1.20687737e+00  7.39442637e-01  2.76792145e-01\n",
      "   7.05661263e-01  1.90057666e-01 -2.45199072e-01 -1.21737074e+00\n",
      "   3.99060631e-01 -1.12535350e+00  7.97269977e-01 -8.20908090e-01\n",
      "  -1.64122157e+00  1.79460594e+00  1.60726713e+00 -3.37113786e-01\n",
      "  -1.81239665e+00 -8.45419866e-01  8.80480736e-01 -8.26285123e-01\n",
      "   1.58623300e+00 -6.08844763e-01  3.13784002e-01  4.13689791e-01\n",
      "   3.34828917e-01  1.37517025e+00  1.32552355e+00  1.19631700e+00\n",
      "   2.22463136e-02  2.43360618e-01 -6.26534183e-01 -1.18292797e+00\n",
      "  -2.48805798e+00 -1.10033168e+00  2.16880392e-01  7.32581819e-01\n",
      "  -9.97794026e-01  1.47730432e+00 -2.07897292e-01  1.73251536e+00\n",
      "   2.23664700e-01  6.92311794e-02 -2.30760198e-01  2.79390223e-01\n",
      "  -4.06291813e-01 -5.24308166e-01 -1.77704171e+00 -4.80306432e-01\n",
      "   3.10330281e-01 -2.28362642e-01 -7.20354500e-01  6.39584978e-01\n",
      "  -8.96063413e-02 -8.09089584e-01  1.48688230e+00  8.76274580e-01\n",
      "   7.11272892e-01  1.24376246e+00  2.41552936e-01  4.84916349e-01\n",
      "  -3.06577921e-01 -7.90360986e-01 -9.61121842e-01  2.17759054e+00\n",
      "  -1.12568965e+00  1.55183495e+00  1.03552331e+00 -6.34960557e-01\n",
      "  -1.00533342e-01  6.49853705e-01  3.70845142e-01 -4.08699083e+00\n",
      "  -9.52829053e-01 -1.76837853e+00 -2.16146879e-01  2.18078431e-01\n",
      "   9.69534419e-01 -2.36803495e+00  5.65799311e-02 -1.19509352e+00\n",
      "  -2.66619855e-01 -5.42570816e-01  1.43278273e-02 -1.10545485e+00\n",
      "   2.04060984e+00  1.78036546e+00  1.37281067e-01  1.24719123e-02\n",
      "   2.80107119e-01 -9.26133984e-01 -1.19383178e+00  8.39171650e-01\n",
      "  -9.52184688e-01  1.33553109e+00 -3.27392255e-01 -6.45256298e-01\n",
      "   6.25342298e-01 -1.60300911e-02 -9.09445649e-01  6.70005406e-02\n",
      "   8.16373634e-01  5.97438436e-01  2.69680839e-02 -1.84347724e+00\n",
      "  -7.09659793e-01 -9.97101360e-02  8.28109205e-01  5.82359017e-01\n",
      "  -6.37250775e-01 -2.21633414e-01  1.12387927e+00  6.42090129e-01\n",
      "   8.90398665e-01 -1.08703828e+00 -3.78721354e-01 -7.98443914e-02\n",
      "  -6.91342499e-01  2.55408555e+00  1.02412090e+00 -2.26141150e-02\n",
      "  -5.46511503e-01 -3.31584185e-01  7.90678782e-02 -4.72507397e-01\n",
      "  -2.81351138e-01 -3.98837601e-02  9.47514332e-01  9.79505720e-01\n",
      "  -1.73507805e-01  1.06953169e+00 -4.46276354e-01 -1.20242225e-01\n",
      "   7.64791300e-01  9.35109393e-01  6.19259117e-01 -1.99049077e+00\n",
      "   9.06437831e-01 -1.12799963e-01  1.39983907e+00 -9.70813154e-02\n",
      "  -8.10446579e-01  2.08713949e+00  8.11591679e-02  1.17031497e-01\n",
      "   5.95300284e-01  3.76039332e-01  1.14385022e+00 -1.13021741e+00\n",
      "  -1.49834511e+00  1.02307690e-01 -3.95120222e-01 -1.45400714e+00\n",
      "   5.54759290e-02  1.37252518e+00  1.39342237e+00 -3.78154378e-01\n",
      "   5.58498396e-01 -8.16753687e-02  3.01916792e-01 -1.63601440e+00\n",
      "  -1.87028760e+00  5.63547307e-02  3.54941030e-01 -8.91488913e-01\n",
      "   8.27149003e-01  1.52183566e+00 -1.78801350e-01  1.04788634e+00\n",
      "   8.01126196e-01  2.81188536e-01  5.11918839e-02  4.62542515e-01\n",
      "  -6.87567933e-01 -1.01834633e-01 -3.00564685e-01 -1.20035752e+00\n",
      "  -5.97431401e-02 -1.33391114e-01  2.78224892e+00 -7.28517956e-01\n",
      "  -1.38415696e+00 -9.51799241e-01 -2.69253031e-01  1.03065144e+00\n",
      "  -3.32412904e-01  1.07275496e+00  8.02045343e-01 -2.79897307e-01\n",
      "  -4.07059594e-01 -1.83640845e-01  8.16210194e-02 -1.42987434e-01\n",
      "  -2.09189498e-01  1.58063038e+00  2.14244352e+00  8.90434001e-01\n",
      "  -4.66934940e-01  7.26392160e-01  5.42749835e-01 -1.11947393e+00\n",
      "   4.22418568e-01 -6.62820482e-01 -1.40712437e+00  8.53952599e-01\n",
      "   2.10877025e-01  2.97142744e-01 -2.03522332e+00 -2.00385430e+00\n",
      "  -4.24964258e-01  7.57938956e-01  2.60779343e-01  2.27168848e-01\n",
      "  -1.42561651e-01 -1.73379237e+00 -1.14450256e+00  1.03771672e+00\n",
      "  -2.14280985e+00 -1.10320567e+00  3.08456098e-01 -9.65036859e-01\n",
      "   1.59343877e-01 -1.28552628e+00  1.68070635e+00 -7.16752749e-01\n",
      "   7.27229550e-01  6.50096157e-01 -6.15136492e-01  7.78658004e-01\n",
      "  -4.77226234e-01 -1.99180246e+00  8.39114219e-01  7.48474812e-02\n",
      "   1.81668610e-01 -5.54817203e-01  2.20051463e-01 -9.01567896e-01\n",
      "  -1.06945425e+00  6.01483716e-01  9.35833745e-01 -2.33355824e-01\n",
      "  -5.93849687e-01  2.06409727e+00 -7.30501599e-01 -1.31722361e-01\n",
      "   8.45851796e-01 -9.12097243e-01 -3.01490406e-01  8.39721787e-01\n",
      "  -9.44865000e-01 -1.19878904e+00 -1.63557896e+00 -5.55808952e-01\n",
      "   6.47392517e-01 -3.30835318e-01 -5.44181148e-01 -1.36637444e-01\n",
      "   1.83129546e-01  4.63757736e-01 -1.01557988e+00 -1.20695393e+00\n",
      "  -6.47831833e-01  1.51191142e-01 -1.17396525e+00  8.21674906e-01\n",
      "  -1.44793098e-01 -5.48611138e-01 -1.49820826e+00  5.43694440e-01\n",
      "   1.99214911e-01 -7.42386225e-01  9.02679250e-01  1.61597073e+00\n",
      "   1.77449629e+00 -8.38502034e-02  3.68353640e-02 -6.63782420e-01\n",
      "   2.14000771e+00 -2.30221629e-01 -1.41724018e+00  1.72259337e+00\n",
      "  -2.00410121e-02 -1.24897564e+00 -1.46319445e-02  1.05372244e-01\n",
      "  -8.95053150e-01 -1.75723636e+00 -2.50510729e+00  1.46477046e-01\n",
      "  -4.97009399e-01  1.76275618e+00 -8.08880182e-01 -5.07261253e-01\n",
      "   2.49049290e-01 -1.60343453e+00  2.19820458e+00  2.52014944e+00\n",
      "  -3.95741623e-01  3.52267956e-01 -2.26839261e-02  4.06207041e-03\n",
      "  -2.78610492e+00  1.07953533e+00 -6.93380231e-01  7.90169178e-01\n",
      "   7.81469651e-01  2.01422135e+00  3.51311113e-02  1.50918114e+00\n",
      "   9.99174153e-01 -3.20390773e-01 -6.70096638e-02 -8.62391524e-02\n",
      "   4.86883375e-01 -5.90630702e-02  1.94787789e+00 -9.03642070e-01\n",
      "   1.09359269e+00 -1.12815417e+00  1.57386470e+00 -9.06989985e-01\n",
      "  -1.82424561e+00 -9.87888775e-01  3.98670743e-01 -8.67354909e-02\n",
      "   4.19047194e-01  7.01902597e-01 -5.54873419e-01  1.43038717e+00\n",
      "  -2.52756671e-01 -1.35149608e+00  2.32315466e+00  1.49361529e+00\n",
      "  -2.49439062e-01  8.02512614e-01  3.54159517e-01 -9.17559008e-01\n",
      "   1.76148912e+00  9.07120343e-03  2.11996304e-01 -7.99938503e-01\n",
      "  -1.40318461e+00  5.51610814e-01 -1.60683161e+00  1.99892923e-01\n",
      "  -1.12152816e+00 -1.26978800e+00 -8.33521245e-01 -5.23091114e-01\n",
      "  -4.89206360e-01 -3.09324191e-01 -3.99244743e-01  2.15798426e-01\n",
      "   1.04201944e+00  1.94896512e-01  1.43614968e+00 -9.73742620e-01\n",
      "   1.02867665e-01 -9.85636428e-01 -2.45951287e-01  2.00528476e+00\n",
      "  -2.06678736e+00 -9.68860274e-01  1.01224905e-01  6.32564788e-02\n",
      "  -4.08837887e-01  1.67360537e+00 -5.28803695e-01  4.10486160e-01\n",
      "   5.24653775e-01  4.94521356e-01  8.03055430e-01 -3.07200727e-01\n",
      "  -9.65257004e-01 -1.12295306e-01 -8.70407608e-01  3.24155584e-01\n",
      "   7.21302537e-01 -1.34065719e+00 -3.05170236e-01  4.95476336e-01\n",
      "  -1.04514919e-01 -1.94416134e-01  1.57296120e+00  2.38675199e-02\n",
      "   7.83718919e-01  8.55355672e-01  1.03286455e+00  1.10371233e+00\n",
      "  -1.61554788e+00 -8.32767424e-01 -1.09593725e-01 -8.57382959e-01\n",
      "   2.49663151e+00  2.13132288e+00  1.39153150e+00 -1.20847086e+00\n",
      "   1.68191041e+00 -8.27533329e-01 -1.48540178e+00  2.36448286e-02\n",
      "   3.89734100e-01 -8.24937462e-01 -1.96043266e+00 -1.63248500e+00\n",
      "  -1.95219681e-01 -9.71519874e-01 -1.34701469e+00  1.67516806e+00\n",
      "   1.70166488e+00  7.74631855e-01 -4.52401713e-01  1.34917161e-01\n",
      "   3.52969085e-01  1.37587602e+00 -1.81757248e+00 -1.40079589e+00\n",
      "   9.48569543e-01  1.78179271e+00 -2.95694510e-01 -1.88295963e-01\n",
      "   2.74741335e+00  1.22764473e+00  8.04305781e-02 -3.67039728e+00\n",
      "   1.41910303e+00 -4.74343396e-03  2.24580522e+00  2.06477764e-01\n",
      "  -5.11322673e-01 -1.08227681e+00 -1.09009160e+00  1.42779332e-01\n",
      "  -8.47668012e-01 -1.63033863e+00 -7.08623133e-01 -1.51627347e-01\n",
      "   8.04471810e-01 -7.41070495e-01  4.14477301e-02 -9.23654393e-01\n",
      "   3.82506760e-01 -6.68751765e-01  5.75089230e-01 -3.46919349e-01\n",
      "  -9.32366728e-01 -4.66072385e-01  2.94459257e-02 -6.60810424e-01\n",
      "  -1.34422766e+00  1.32239712e+00  5.46457623e-01 -6.55921690e-01\n",
      "   8.82856840e-01 -1.91679677e-02 -1.80884337e+00  1.05039273e+00\n",
      "  -4.89720750e-01 -2.42253171e+00  1.00269840e+00 -1.77561402e+00\n",
      "   7.83182671e-01 -7.50732052e-01  3.27074757e-01  9.61989169e-02\n",
      "  -1.02071408e+00  4.12860148e-01  1.76064730e+00  4.79309473e-01\n",
      "   2.65078912e-01 -1.27090556e+00 -1.45683373e+00  2.24670916e-01\n",
      "   7.60766667e-01  5.71662951e-01 -7.19899941e-01 -4.31623357e-01\n",
      "   1.55893491e-01  4.33128266e-01 -2.92291409e-01  3.48007433e-02\n",
      "   9.24167701e-01 -2.33721287e+00 -6.44742949e-01  5.52876876e-01\n",
      "  -4.43336708e-01  1.48585567e-01  6.42278300e-01 -1.23929724e+00\n",
      "  -1.12626993e+00 -1.72770907e+00 -1.44394604e+00 -4.39310690e-01\n",
      "   9.24254193e-01  6.62715142e-01 -7.27807258e-01  8.76769634e-01\n",
      "  -2.37804361e-02  2.56585328e-01 -2.22958770e-01 -1.53706809e+00\n",
      "   1.43287637e+00 -5.27946865e-01 -3.71984142e-01 -1.59733471e+00\n",
      "   1.16597176e+00 -2.14013765e-01  5.62516520e-01  1.63315757e+00\n",
      "  -8.81974916e-01  2.29547476e+00 -1.10463786e+00 -8.71758842e-01\n",
      "   2.76729999e-02 -1.34268917e+00  9.27652053e-01 -1.13755815e+00\n",
      "   1.04726250e+00  9.54792420e-02 -4.65927036e-01 -1.94377387e+00\n",
      "  -1.09839600e-01  5.97760198e-01 -1.06030919e+00 -7.65868266e-01\n",
      "   2.96446875e-01 -1.16266946e+00  5.14664558e-01  7.65992260e-01\n",
      "  -2.46577103e-01  3.68036601e-01 -1.95399825e-01 -3.15404117e-01\n",
      "  -4.61865224e-01  6.51445347e-01 -1.53975466e-01 -2.83827370e+00\n",
      "   9.62693895e-01  8.30286729e-01  3.09449216e-01 -5.68664550e-01\n",
      "  -2.85355510e-01 -3.62326183e-01 -5.14037177e-01  2.65571482e-01\n",
      "   1.49689580e+00 -1.38047848e-01 -2.37374433e+00 -1.13052683e+00\n",
      "   2.64887058e-01  1.26743094e+00  8.33382769e-01  7.54181326e-01\n",
      "   9.48142583e-01 -8.42453365e-01  4.45997683e-01  1.01332184e+00\n",
      "   7.42989141e-01  2.22275187e+00 -6.15300594e-01 -1.13809142e+00\n",
      "  -5.40574778e-01 -4.94059651e-02 -1.43650864e+00 -2.97527562e+00\n",
      "  -4.22196441e-01  2.63236843e-01  1.02207996e+00  9.52276837e-01\n",
      "  -5.56048513e-01 -1.05262922e+00 -5.48018132e-01 -2.39782789e-01\n",
      "   1.77409924e+00  4.13043917e-01 -5.53197961e-01  3.76399536e-01\n",
      "  -9.30756165e-01  6.27748083e-02  4.15795792e-01  1.65230918e+00\n",
      "   6.45317508e-01 -5.46962761e-01  4.28491666e-01  3.02710547e-02\n",
      "  -1.15302991e+00  1.03761610e+00  8.97846490e-01 -1.12304655e-01\n",
      "  -7.86257482e-01 -2.66498957e-01 -2.83974795e-01 -2.22803530e+00\n",
      "  -9.52858883e-01  8.02632736e-01  1.20951651e-01 -2.22489158e+00\n",
      "   7.71724028e-01  1.60516684e+00 -5.34082054e-01  8.98975706e-01\n",
      "   7.92643033e-01 -1.57132680e+00  2.46272299e-01 -1.51617366e+00\n",
      "  -2.27863070e+00 -5.28439173e-01  1.52693442e+00  1.50984976e+00\n",
      "   5.55001564e-01  9.74717260e-01  7.37246359e-01 -8.58985623e-01\n",
      "  -5.75286865e-01 -5.47453961e-01 -3.61215466e-01 -4.98430026e-01\n",
      "   7.11624195e-01  4.92015704e-02  1.01967807e+00  7.23734194e-01\n",
      "   3.45351421e-01  9.63092106e-01 -1.58503293e+00 -7.52298479e-02\n",
      "  -1.13663938e-01  6.44125992e-01 -3.61812393e-01  1.35345256e+00\n",
      "   5.38796831e-01  1.49294182e+00 -4.14254996e-01  3.10036863e-01\n",
      "   1.41787000e+00 -1.82521037e-01 -6.75606194e-01 -1.03299293e+00\n",
      "  -7.56304119e-01 -1.83842205e-01 -1.26709154e+00  1.64139099e+00\n",
      "  -5.49349072e-01  5.50944323e-01 -1.17429215e+00  1.21306993e+00]]\n",
      "[[1. 0. 0. 0. 0.]\n",
      " [0. 1. 0. 0. 0.]\n",
      " [0. 0. 1. 0. 0.]\n",
      " [0. 0. 0. 1. 0.]\n",
      " [0. 0. 0. 0. 1.]]\n",
      "[[1 0 0 0]\n",
      " [0 2 0 0]\n",
      " [0 0 3 0]\n",
      " [0 0 0 4]]\n"
     ]
    }
   ],
   "source": [
    "# random values arrays\n",
    "randn=np.random.randn(1,1000)\n",
    "print(randn)\n",
    "\n",
    "# linear algebra arrays \n",
    "eye=np.eye(5)\n",
    "print(eye)\n",
    "\n",
    "diagonal=np.diag(np.arange(1,5))\n",
    "print(diagonal)\n"
   ]
  },
  {
   "cell_type": "markdown",
   "metadata": {},
   "source": [
    "#### Combine arrays"
   ]
  },
  {
   "cell_type": "code",
   "execution_count": 39,
   "metadata": {},
   "outputs": [
    {
     "name": "stdout",
     "output_type": "stream",
     "text": [
      "[[1 2 3 4]\n",
      " [1 2 3 4]\n",
      " [5 6 7 8]\n",
      " [5 6 7 8]]\n",
      "[[1 2 3 4 5 6 7 8]\n",
      " [1 2 3 4 5 6 7 8]]\n",
      "[[1 2 3 4]\n",
      " [1 2 3 4]\n",
      " [5 6 7 8]\n",
      " [5 6 7 8]]\n",
      "[[1 2 3 4 5 6 7 8]\n",
      " [1 2 3 4 5 6 7 8]]\n"
     ]
    }
   ],
   "source": [
    "arr1 = np.array([[1,2,3,4], [1,2,3,4]])\n",
    "arr2 = np.array([[5,6,7,8], [5,6,7,8]])\n",
    "\n",
    "# concat along the row\n",
    "cat = np.concatenate((arr1, arr2), axis=0)        \n",
    "print(cat)\n",
    "\n",
    "# concat along the column\n",
    "cat = np.concatenate((arr1, arr2), axis=1)    \n",
    "print(cat)\n",
    "\n",
    "# stack arrays vertically\n",
    "cat = np.vstack((arr1, arr2))\n",
    "print(cat)\n",
    "\n",
    "# stack arrays horizontally\n",
    "cat = np.hstack((arr1, arr2))\n",
    "print(cat)"
   ]
  },
  {
   "cell_type": "markdown",
   "metadata": {},
   "source": [
    "#### Operations with arrays"
   ]
  },
  {
   "cell_type": "code",
   "execution_count": 22,
   "metadata": {},
   "outputs": [
    {
     "name": "stdout",
     "output_type": "stream",
     "text": [
      "c= [20 29 38 47]\n",
      "b**2= [0 1 4 9]\n",
      "sin= [ 9.12945251 -9.88031624  7.4511316  -2.62374854]\n",
      "[False False False False]\n"
     ]
    }
   ],
   "source": [
    "a = np.array( [20,30,40,50] )\n",
    "b = np.arange( 4 )\n",
    "\n",
    "print(\"a-b\",a-b)\n",
    "print(\"b**2=\", b**2)\n",
    "print(\"a>20\",a<20)"
   ]
  },
  {
   "cell_type": "code",
   "execution_count": 29,
   "metadata": {},
   "outputs": [
    {
     "name": "stdout",
     "output_type": "stream",
     "text": [
      "[ 7.07106781e-01  1.00000000e+00  7.07106781e-01  1.22464680e-16\n",
      " -7.07106781e-01 -1.00000000e+00 -7.07106781e-01 -2.44929360e-16\n",
      "  7.07106781e-01  1.00000000e+00  7.07106781e-01  3.67394040e-16\n",
      " -7.07106781e-01 -1.00000000e+00 -7.07106781e-01 -4.89858720e-16\n",
      "  7.07106781e-01  1.00000000e+00  7.07106781e-01]\n",
      "[0.         0.69314718 1.09861229 1.38629436 1.60943791 1.79175947\n",
      " 1.94591015 2.07944154 2.19722458 2.30258509 2.39789527 2.48490665\n",
      " 2.56494936 2.63905733 2.7080502  2.77258872 2.83321334 2.89037176\n",
      " 2.94443898]\n",
      "[4. 4. 4. 4.]\n",
      "[1. 1. 1. 1.]\n"
     ]
    }
   ],
   "source": [
    "# Maths operators\n",
    "\n",
    "x=np.arange(1,20)\n",
    "sin=np.sin(1/4*np.pi*x)\n",
    "print(sin)\n",
    "print(np.log(x))\n",
    "\n",
    "print(np.sum(ones, axis=0))\n",
    "print(np.sum(ones[:,2:3], axis=1))\n"
   ]
  },
  {
   "cell_type": "markdown",
   "metadata": {},
   "source": [
    "**Plotting a function**"
   ]
  },
  {
   "cell_type": "code",
   "execution_count": 64,
   "metadata": {},
   "outputs": [
    {
     "data": {
      "image/png": "[encoded data removed]",
      "text/plain": [
       "<Figure size 432x288 with 1 Axes>"
      ]
     },
     "metadata": {},
     "output_type": "display_data"
    }
   ],
   "source": [
    "\n",
    "fig=plt.figure()\n",
    "plt.plot(x,sin)\n",
    "plt.xlabel(\"x\")\n",
    "plt.ylabel(\"sin(1/4*pi*x)\")\n",
    "plt.title(\"Sin function\")\n",
    "plt.show()"
   ]
  },
  {
   "cell_type": "code",
   "execution_count": 30,
   "metadata": {},
   "outputs": [
    {
     "name": "stdout",
     "output_type": "stream",
     "text": [
      "1.0\n",
      "-1.0\n",
      "[1 4 5 8 9]\n",
      "[0 3 3 7 7]\n"
     ]
    }
   ],
   "source": [
    "print(np.max(sin))\n",
    "print(np.min(sin))\n",
    "\n",
    "## Elementwise minimum and maximum\n",
    "arr1 = np.array([1, 3, 5, 7, 9])\n",
    "arr2 = np.array([0, 4, 3, 8, 7])\n",
    "print(np.maximum(arr1, arr2))\n",
    "print(np.minimum(arr1, arr2))"
   ]
  },
  {
   "cell_type": "code",
   "execution_count": 38,
   "metadata": {
    "scrolled": true
   },
   "outputs": [
    {
     "name": "stdout",
     "output_type": "stream",
     "text": [
      "0.043090249065763205\n",
      "0.08808464969157555\n",
      "1.0543330288666193\n"
     ]
    }
   ],
   "source": [
    "# Statistical functions\n",
    "\n",
    "print(np.mean(randn))\n",
    "print(np.median(randn))\n",
    "print(np.std(randn))\n"
   ]
  },
  {
   "cell_type": "markdown",
   "metadata": {},
   "source": [
    "**Plotting a distribution**"
   ]
  },
  {
   "cell_type": "code",
   "execution_count": 82,
   "metadata": {},
   "outputs": [
    {
     "data": {
      "image/png": "[encoded data removed]",
      "text/plain": [
       "<Figure size 432x288 with 1 Axes>"
      ]
     },
     "metadata": {},
     "output_type": "display_data"
    }
   ],
   "source": [
    "plt.figure()\n",
    "plt.hist(randn.T,10,density=True)\n",
    "plt.plot(np.mean(randn),0,\"rd\")\n",
    "plt.show()"
   ]
  },
  {
   "cell_type": "markdown",
   "metadata": {},
   "source": [
    "### Excercise 1:\n",
    "\n",
    "- Create a 5 (channels) x 100 (samples) matrix of random integers and retrieve the following informations:\n",
    "    - the max, min, mean of all samples.\n",
    "    - the mean and variance of each subject\n"
   ]
  },
  {
   "cell_type": "code",
   "execution_count": null,
   "metadata": {},
   "outputs": [],
   "source": []
  },
  {
   "cell_type": "markdown",
   "metadata": {},
   "source": [
    "\n",
    "- Simulate the recording of a machine that records 1000 samples from 10 channels: at each step the full vector of channels is saved"
   ]
  },
  {
   "cell_type": "code",
   "execution_count": null,
   "metadata": {},
   "outputs": [],
   "source": []
  },
  {
   "cell_type": "markdown",
   "metadata": {},
   "source": [
    "#### Linear Algebra, numpy.linalg"
   ]
  },
  {
   "cell_type": "code",
   "execution_count": 40,
   "metadata": {},
   "outputs": [
    {
     "name": "stdout",
     "output_type": "stream",
     "text": [
      "[[0.57929797 0.77066885 0.41069532 0.21899777 0.23669324]\n",
      " [0.13405738 0.13150794 0.71811261 0.88932401 0.66254445]\n",
      " [0.86146449 0.56652707 0.84745175 0.00558003 0.67744262]\n",
      " [0.29532263 0.85019024 0.26179061 0.96637965 0.93259977]\n",
      " [0.24690435 0.17806846 0.67416308 0.75155757 0.46091011]]\n",
      "[[0.57929797 0.13405738 0.86146449 0.29532263 0.24690435]\n",
      " [0.77066885 0.13150794 0.56652707 0.85019024 0.17806846]\n",
      " [0.41069532 0.71811261 0.84745175 0.26179061 0.67416308]\n",
      " [0.21899777 0.88932401 0.00558003 0.96637965 0.75155757]\n",
      " [0.23669324 0.66254445 0.67744262 0.93259977 0.46091011]]\n"
     ]
    }
   ],
   "source": [
    "arr1 = np.random.rand(5,5)\n",
    "arr2 = np.random.rand(5,5)\n",
    "\n",
    "print(arr1)\n",
    "print(arr1.T)"
   ]
  },
  {
   "cell_type": "code",
   "execution_count": null,
   "metadata": {},
   "outputs": [],
   "source": []
  },
  {
   "cell_type": "code",
   "execution_count": 41,
   "metadata": {},
   "outputs": [
    {
     "name": "stdout",
     "output_type": "stream",
     "text": [
      "[[1.40776996 1.2922666  0.86947446 1.05508059 1.50969503]\n",
      " [1.37500901 1.62243371 0.3502072  1.8092951  1.59344383]\n",
      " [1.73380894 1.68878522 1.07835332 1.2880074  1.90193473]\n",
      " [2.30995102 2.28218304 0.73463001 2.335787   2.39203198]\n",
      " [1.22511138 1.39120233 0.43111155 1.52125849 1.45427632]]\n",
      "[[1.40776996 1.2922666  0.86947446 1.05508059 1.50969503]\n",
      " [1.37500901 1.62243371 0.3502072  1.8092951  1.59344383]\n",
      " [1.73380894 1.68878522 1.07835332 1.2880074  1.90193473]\n",
      " [2.30995102 2.28218304 0.73463001 2.335787   2.39203198]\n",
      " [1.22511138 1.39120233 0.43111155 1.52125849 1.45427632]]\n"
     ]
    }
   ],
   "source": [
    "print(arr1.dot(arr2))\n",
    "# or\n",
    "print(np.dot(arr1, arr2))"
   ]
  },
  {
   "cell_type": "code",
   "execution_count": 43,
   "metadata": {},
   "outputs": [
    {
     "name": "stdout",
     "output_type": "stream",
     "text": [
      "2.985547420467123\n",
      "-0.027189020682555253\n"
     ]
    }
   ],
   "source": [
    "# notice this is not a function in linalg!!!\n",
    "print(np.trace(arr1))\n",
    "print(np.linalg.det(arr1))\n"
   ]
  },
  {
   "cell_type": "markdown",
   "metadata": {},
   "source": [
    "### Excercise 2: \n",
    "\n",
    "Given A, B, C compute the eigenvalues of D\n",
    "\n",
    "D = ( A + B ) C<sup>-1</sup>\n",
    "\n",
    "\n",
    "\n",
    "\n",
    "\n"
   ]
  },
  {
   "cell_type": "code",
   "execution_count": 56,
   "metadata": {},
   "outputs": [],
   "source": [
    "A=np.ones((4,4))\n",
    "B=np.random.randint(5,size=(4,4))\n",
    "C=np.diag(np.arange(1,5))"
   ]
  },
  {
   "cell_type": "code",
   "execution_count": null,
   "metadata": {},
   "outputs": [],
   "source": []
  },
  {
   "cell_type": "markdown",
   "metadata": {},
   "source": [
    "## Scipy"
   ]
  },
  {
   "cell_type": "markdown",
   "metadata": {},
   "source": [
    "As you have seen during the lecture, Scipyis a package for high-level scientific computing. Its different submodules correspond to different applications, such as interpolation, integration, optimization, image processing, statistics, special functions, etc.\n",
    "\n",
    "We are going to take a look at some of its features, but there is much more depending on what you might actually need."
   ]
  },
  {
   "cell_type": "code",
   "execution_count": null,
   "metadata": {},
   "outputs": [],
   "source": []
  },
  {
   "cell_type": "markdown",
   "metadata": {},
   "source": [
    "## Pandas"
   ]
  },
  {
   "cell_type": "markdown",
   "metadata": {},
   "source": [
    "## Seaborn"
   ]
  }
 ],
 "metadata": {
  "kernelspec": {
   "display_name": "Python 3",
   "language": "python",
   "name": "python3"
  },
  "language_info": {
   "codemirror_mode": {
    "name": "ipython",
    "version": 3
   },
   "file_extension": ".py",
   "mimetype": "text/x-python",
   "name": "python",
   "nbconvert_exporter": "python",
   "pygments_lexer": "ipython3",
   "version": "3.6.6"
  }
 },
 "nbformat": 4,
 "nbformat_minor": 2
}
